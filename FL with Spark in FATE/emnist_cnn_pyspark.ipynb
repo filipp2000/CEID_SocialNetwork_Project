{
  "nbformat": 4,
  "nbformat_minor": 0,
  "metadata": {
    "colab": {
      "provenance": [],
      "authorship_tag": "ABX9TyN89ADNIY1vNTgavn4syHsQ",
      "include_colab_link": true
    },
    "kernelspec": {
      "name": "python3",
      "display_name": "Python 3"
    },
    "language_info": {
      "name": "python"
    }
  },
  "cells": [
    {
      "cell_type": "markdown",
      "metadata": {
        "id": "view-in-github",
        "colab_type": "text"
      },
      "source": [
        "<a href=\"https://colab.research.google.com/github/filipp2000/CEID_SocialNetwork_Project/blob/master/FL%20with%20Spark%20in%20FATE/emnist_cnn_pyspark.ipynb\" target=\"_parent\"><img src=\"https://colab.research.google.com/assets/colab-badge.svg\" alt=\"Open In Colab\"/></a>"
      ]
    },
    {
      "cell_type": "code",
      "execution_count": null,
      "metadata": {
        "id": "uvGwN6g3T9oJ"
      },
      "outputs": [],
      "source": []
    }
  ]
}